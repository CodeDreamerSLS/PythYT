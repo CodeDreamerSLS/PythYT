{
 "cells": [
  {
   "cell_type": "code",
   "execution_count": 7,
   "metadata": {},
   "outputs": [
    {
     "name": "stdout",
     "output_type": "stream",
     "text": [
      "Enter number up to which you want prime number: 100\n",
      "Prime numbers:  [2, 3, 5, 7, 11, 13, 17, 19, 23, 29, 31, 37, 41, 43, 47, 53, 59, 61, 67, 71, 73, 79, 83, 89, 97]\n",
      "Total Prime number:  25\n"
     ]
    }
   ],
   "source": [
    "#Simple python program to generate prime number as well as total prime numbers without using function\n",
    "uinput=input(\"Enter number up to which you want prime number: \") #ask user for input\n",
    "ureq=int(uinput)                #converting user input value to integer\n",
    "\n",
    "primes=[2]                      #by default we place 2 in prime list and we ignore 0 and 1 as well\n",
    "x=3     \n",
    "if ureq<2:\n",
    "    print(\"No prime number, Enter no. greater than 1\")\n",
    "else:\n",
    "    while x<=ureq:                  #we r checking number from our prime list, if the number is divisible any one of the prime number list then it will be not prime number.\n",
    "        for y in primes:   \n",
    "            if x%y==0:\n",
    "                x+=2\n",
    "                break\n",
    "        else: \n",
    "            primes.append(x)\n",
    "            x+=2\n",
    "    print(\"Prime numbers: \",primes)\n",
    "    print(\"Total Prime number: \",len(primes))"
   ]
  }
 ],
 "metadata": {
  "kernelspec": {
   "display_name": "Python 3",
   "language": "python",
   "name": "python3"
  },
  "language_info": {
   "codemirror_mode": {
    "name": "ipython",
    "version": 3
   },
   "file_extension": ".py",
   "mimetype": "text/x-python",
   "name": "python",
   "nbconvert_exporter": "python",
   "pygments_lexer": "ipython3",
   "version": "3.7.6"
  }
 },
 "nbformat": 4,
 "nbformat_minor": 4
}
