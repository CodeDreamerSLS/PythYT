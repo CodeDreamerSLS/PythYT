{
 "cells": [
  {
   "cell_type": "code",
   "execution_count": 2,
   "metadata": {},
   "outputs": [
    {
     "name": "stdout",
     "output_type": "stream",
     "text": [
      "Enter number up to which you want prime number: 1\n",
      "No prime number, Enter no. greater than 1\n"
     ]
    }
   ],
   "source": [
    "#Simple python program to generate prime number as well as total prime numbers without using function\n",
    "uinput=input(\"Enter number up to which you want prime number: \") #ask user for input\n",
    "ureq=int(uinput)                #converting user input value to integer\n",
    "\n",
    "primes=[2]                      #by default we place 2 in prime list and we ignore 0 and 1 as well\n",
    "x=3     \n",
    "if ureq<2:\n",
    "    print(\"No prime number, Enter no. greater than 1\")\n",
    "else:\n",
    "    while x<=ureq:                  #we r checking odd number like 3, 5, 7, 9, 11, 13 and so on\n",
    "        for y in range(3,x,2):   \n",
    "            if x%y==0:\n",
    "                x+=2\n",
    "                break\n",
    "        else: \n",
    "            primes.append(x)\n",
    "            x+=2\n",
    "    print(\"Prime numbers: \",primes)\n",
    "    print(\"Total Prime number: \",len(primes))"
   ]
  },
  {
   "cell_type": "code",
   "execution_count": 3,
   "metadata": {},
   "outputs": [
    {
     "data": {
      "text/plain": [
       "'C:\\\\Users\\\\Saundarya\\\\Desktop\\\\python\\\\02-Python Statements'"
      ]
     },
     "execution_count": 3,
     "metadata": {},
     "output_type": "execute_result"
    }
   ],
   "source": [
    "pwd"
   ]
  },
  {
   "cell_type": "code",
   "execution_count": null,
   "metadata": {},
   "outputs": [],
   "source": []
  }
 ],
 "metadata": {
  "kernelspec": {
   "display_name": "Python 3",
   "language": "python",
   "name": "python3"
  },
  "language_info": {
   "codemirror_mode": {
    "name": "ipython",
    "version": 3
   },
   "file_extension": ".py",
   "mimetype": "text/x-python",
   "name": "python",
   "nbconvert_exporter": "python",
   "pygments_lexer": "ipython3",
   "version": "3.7.6"
  }
 },
 "nbformat": 4,
 "nbformat_minor": 4
}
